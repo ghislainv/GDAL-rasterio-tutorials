{
 "cells": [
  {
   "cell_type": "markdown",
   "metadata": {},
   "source": [
    "## Introduction\n",
    "Raster datasets are growing exponentially in size and in availability with improvements to data resolution and increase in the frequency of data being captured. This poses a challenge on improving performance of raster operations that can keep up with the growth of raster data sizes.  \n",
    "\n",
    "In this tutorial, we'll explore methods to leverage both multithreading and multiprocessing of raster datasets that can utilize multiple CPU cores. We'll see the code to implement this using rasterio module and understand the improvements in performance by distributing the raster operation between worker processes. \n",
    "\n",
    "We'll revisit the **NDVI** example from Tutorial 1 and calculate this index for a large dataset by utilizing multithreading (concurrency) and multiprocessing (parallelism). I would recommend reading [this medium post](https://medium.com/contentsquare-engineering-blog/multithreading-vs-multiprocessing-in-python-ece023ad55a) that explains concurrency vs parallelism very well. \n",
    "\n",
    "### Is there a way around Global Interpreter Lock (GIL)?\n",
    "\n",
    "A challenge often encountered when analyzing raster datasets and trying to implement distributed processing in Python is the GIL (Global Interpreter Lock). Using rasterio module we can call GDAL __GDALRasterIO( )__ method that enables bypassing Python's Global Interpreter Lock (GIL) for raster data. This makes concurrent read/ writes of cell blocks for large raster datasets possible. Taking advantage of this functionality can help scale your analysis, improve performance and maximize the utilization of processing units in your compute environment."
   ]
  },
  {
   "cell_type": "markdown",
   "metadata": {},
   "source": [
    "### Import modules\n",
    "Let us begin by importing the rasterio, multiprocessing and matplotlib.pylot among other necessary python libraries. We'll also import a built-in method for calculating NDVI from a multiband raster dataset. This methods is stored in the 'Utils' folder in the parent directory of this repository and can be used by importing it."
   ]
  },
  {
   "cell_type": "code",
   "execution_count": 1,
   "metadata": {},
   "outputs": [],
   "source": [
    "import os\n",
    "import time\n",
    "import matplotlib.pyplot as plt\n",
    "import rasterio\n",
    "from rasterio.plot import show\n",
    "import concurrent.futures\n",
    "from multiprocessing import cpu_count\n",
    "from Utils.NDVI import create_ndvi_array"
   ]
  },
  {
   "cell_type": "markdown",
   "metadata": {},
   "source": [
    "### Data\n",
    "We'll use an image acquired from National Agriculture Imagery Program (NAIP). This is a multiband raster which has the bands (red, NIR) as the first and fourth bands respectively that are required to calculate NDVI index.\n",
    "\n",
    "##### Data citation Information:\n",
    "        Originator: USDA-FSA Aerial Photography Field Office\n",
    "        Publication_Date: 20191022\n",
    "        Title: NAIP Digital Orthophoto\n",
    "        Geospatial_Data_Presentation_Form: remote-sensing image"
   ]
  },
  {
   "cell_type": "code",
   "execution_count": 2,
   "metadata": {},
   "outputs": [],
   "source": [
    "input_file = os.path.join(\n",
    "        os.getcwd(), \n",
    "        r'Data/NAIP/m_3511001_12_060_20190705_20200109.tif'\n",
    "    )\n",
    "\n",
    "input_src = rasterio.open(input_file)"
   ]
  },
  {
   "cell_type": "markdown",
   "metadata": {},
   "source": [
    "Let us explore the data and get a sense of the number of pixels that need to be processed. First we'll check how many bands are present."
   ]
  },
  {
   "cell_type": "code",
   "execution_count": 3,
   "metadata": {},
   "outputs": [
    {
     "data": {
      "text/plain": [
       "4"
      ]
     },
     "execution_count": 3,
     "metadata": {},
     "output_type": "execute_result"
    }
   ],
   "source": [
    "input_src.count"
   ]
  },
  {
   "cell_type": "markdown",
   "metadata": {},
   "source": [
    "Next let us inspect the height and width of the raster dataset."
   ]
  },
  {
   "cell_type": "code",
   "execution_count": 4,
   "metadata": {},
   "outputs": [
    {
     "data": {
      "text/plain": [
       "(24119, 19806)"
      ]
     },
     "execution_count": 4,
     "metadata": {},
     "output_type": "execute_result"
    }
   ],
   "source": [
    "input_src.shape"
   ]
  },
  {
   "cell_type": "markdown",
   "metadata": {},
   "source": [
    "Since we'll be only using the first and fourth bands for NDVI analysis, that is a total of 24119*19806*2 = 955401828 cells, which is close to **a billion pixels that need to be analysed!**\n",
    "\n",
    "Define a path to the output NDVI raster."
   ]
  },
  {
   "cell_type": "code",
   "execution_count": 5,
   "metadata": {},
   "outputs": [],
   "source": [
    "out_NDVI_raster_c = os.path.join(\n",
    "        os.getcwd(), \n",
    "        r'Data/Outputs/NDVI_concurrent.tif'\n",
    "    )\n",
    "\n",
    "out_NDVI_raster_p = os.path.join(\n",
    "        os.getcwd(), \n",
    "        r'Data/Outputs/NDVI_parallel.tif'\n",
    "    )\n",
    "\n",
    "out_NDVI_raster_s = os.path.join(\n",
    "        os.getcwd(), \n",
    "        r'Data/Outputs/NDVI_serial.tif'\n",
    "    )"
   ]
  },
  {
   "cell_type": "markdown",
   "metadata": {},
   "source": [
    "### Analysis step\n",
    "\n",
    "This is the analysis step. We'll be using pixel blocks of size 1024 by 1024 to break up the empty output raster into windows. Then, we'll use the same windows to process the input rasters concurrently and write them to the output. We'll time the total time taken to perform analysis and keep track of how long it took on my local machine to run it using 4 cores."
   ]
  },
  {
   "cell_type": "markdown",
   "metadata": {},
   "source": [
    "### Concurrent implementation\n",
    "\n",
    "We'll use ThreadPoolExecutor from concurrent.futures module to achieve concurrency."
   ]
  },
  {
   "cell_type": "code",
   "execution_count": 6,
   "metadata": {},
   "outputs": [
    {
     "name": "stdout",
     "output_type": "stream",
     "text": [
      "Time to execute concurrently (seconds): 30.91653934300001\n"
     ]
    }
   ],
   "source": [
    "start_time = time.perf_counter()\n",
    "\n",
    "with rasterio.Env():\n",
    "    with rasterio.open(input_file) as src:\n",
    "        profile = input_src.profile\n",
    "        profile.update(blockxsize = 1024, blockysize = 1024, \n",
    "                       tiled = True, count=1, dtype=rasterio.float64)\n",
    "        \n",
    "        with rasterio.open(out_NDVI_raster_c, \"w\", **profile) as outras:\n",
    "            #list of destination windows\n",
    "            windows = [window for ji, window in outras.block_windows()]\n",
    "    \n",
    "            #read input dataset for these windows\n",
    "            input_window_data = (input_src.read(window=window, masked=True) for window in windows)\n",
    "            \n",
    "            # multiply number of processors by 5 to overlap I/O\n",
    "            with concurrent.futures.ThreadPoolExecutor(\n",
    "                    max_workers=cpu_count()*5\n",
    "                ) as executor:\n",
    "    \n",
    "                for window, result in zip(\n",
    "                    windows, executor.map(create_ndvi_array, input_window_data)\n",
    "                ):\n",
    "                    outras.write(result, window=window)\n",
    "        \n",
    "end_time = time.perf_counter()\n",
    "\n",
    "total_execution_time_c = end_time - start_time\n",
    "\n",
    "print(\"Time to execute concurrently (seconds): {t}\".format(t=total_execution_time_c))"
   ]
  },
  {
   "cell_type": "markdown",
   "metadata": {},
   "source": [
    "### Parallel implementation\n",
    "\n",
    "We'll use the ProcessPoolExecutor from concurrent.futures to achieve parallelism."
   ]
  },
  {
   "cell_type": "code",
   "execution_count": 7,
   "metadata": {},
   "outputs": [
    {
     "name": "stdout",
     "output_type": "stream",
     "text": [
      "Time to execute in parallel (seconds): 61.25914997199999\n"
     ]
    }
   ],
   "source": [
    "start_time = time.perf_counter()\n",
    "\n",
    "with rasterio.Env():\n",
    "    with rasterio.open(input_file) as src:\n",
    "        profile = input_src.profile\n",
    "        profile.update(blockxsize = 1024, blockysize = 1024, \n",
    "                       tiled = True, count=1, dtype=rasterio.float64)\n",
    "        \n",
    "        with rasterio.open(out_NDVI_raster_p, \"w\", **profile) as outras:\n",
    "            #list of destination windows\n",
    "            windows = [window for ji, window in outras.block_windows()]\n",
    "    \n",
    "            #read input dataset for these windows\n",
    "            input_window_data = (input_src.read(window=window, masked=True) for window in windows)\n",
    "    \n",
    "            with concurrent.futures.ProcessPoolExecutor(\n",
    "                    max_workers=cpu_count()\n",
    "                ) as executor:\n",
    "    \n",
    "                for window, result in zip(\n",
    "                    windows, executor.map(create_ndvi_array, input_window_data)\n",
    "                ):\n",
    "                    outras.write(result, window=window)\n",
    "        \n",
    "end_time = time.perf_counter()\n",
    "\n",
    "total_execution_time_p = end_time - start_time\n",
    "\n",
    "print(\"Time to execute in parallel (seconds): {t}\".format(t=total_execution_time_p))"
   ]
  },
  {
   "cell_type": "markdown",
   "metadata": {},
   "source": [
    "### Serial implementation"
   ]
  },
  {
   "cell_type": "code",
   "execution_count": 8,
   "metadata": {},
   "outputs": [
    {
     "name": "stdout",
     "output_type": "stream",
     "text": [
      "Time to execute serially (seconds): 173.75704774899998\n"
     ]
    }
   ],
   "source": [
    "profile = input_src.profile\n",
    "profile.update(count=1, dtype=rasterio.float64)\n",
    "\n",
    "\n",
    "start_time = time.perf_counter()\n",
    "with rasterio.open(out_NDVI_raster_s, \"w\", **profile) as outras:\n",
    "    NDVI_array = create_ndvi_array(input_src.read(masked=True))\n",
    "    outras.write(NDVI_array)\n",
    "    \n",
    "end_time = time.perf_counter()\n",
    "\n",
    "total_execution_time_s = end_time - start_time\n",
    "print(\"Time to execute serially (seconds): {t}\".format(t=total_execution_time_s))\n",
    "    "
   ]
  },
  {
   "cell_type": "code",
   "execution_count": 25,
   "metadata": {},
   "outputs": [
    {
     "data": {
      "image/png": "[encoded data removed]",
      "text/plain": [
       "<Figure size 432x288 with 1 Axes>"
      ]
     },
     "metadata": {},
     "output_type": "display_data"
    }
   ],
   "source": [
    "plt.style.use('ggplot')\n",
    "x = ['Concurrent', 'Parallel', 'Serial']\n",
    "#baseline (slowest) which is serial is 1x\n",
    "y = [total_execution_time_s/time for time in [total_execution_time_c, total_execution_time_p, total_execution_time_s]]\n",
    "x_pos = [i for i, _ in enumerate(x)]\n",
    "\n",
    "br = plt.bar(x_pos, y, color='green')\n",
    "plt.xlabel(\"Execution method\")\n",
    "plt.ylabel(\"Speed up (compared to serial)\")\n",
    "plt.title(\"Speed up of a raster operation on 1 billion pixels\")\n",
    "\n",
    "def autolabel(rects):\n",
    "    for rect in rects:\n",
    "        height = round(rect.get_height(), 2)\n",
    "        plt.annotate('{}'.format(height),\n",
    "                    xy=(rect.get_x() + rect.get_width() / 2, height),\n",
    "                    xytext=(0, 3),  # 3 points vertical offset\n",
    "                    textcoords=\"offset points\",\n",
    "                    ha='center', va='bottom')\n",
    "\n",
    "autolabel(br)\n",
    "plt.xticks(x_pos, x)\n",
    "plt.show()"
   ]
  },
  {
   "cell_type": "code",
   "execution_count": null,
   "metadata": {},
   "outputs": [],
   "source": []
  }
 ],
 "metadata": {
  "kernelspec": {
   "display_name": "Python 3",
   "language": "python",
   "name": "python3"
  },
  "language_info": {
   "codemirror_mode": {
    "name": "ipython",
    "version": 3
   },
   "file_extension": ".py",
   "mimetype": "text/x-python",
   "name": "python",
   "nbconvert_exporter": "python",
   "pygments_lexer": "ipython3",
   "version": "3.7.7"
  }
 },
 "nbformat": 4,
 "nbformat_minor": 4
}
